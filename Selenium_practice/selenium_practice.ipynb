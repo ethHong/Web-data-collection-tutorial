{
 "cells": [
  {
   "cell_type": "code",
   "execution_count": 1,
   "source": [
    "from bs4 import BeautifulSoup\n",
    "from selenium import webdriver\n",
    "from selenium.webdriver.common.by import By\n",
    "import os\n",
    "import time\n",
    "import json\n",
    "import re"
   ],
   "outputs": [],
   "metadata": {}
  },
  {
   "cell_type": "markdown",
   "source": [
    "## Setup - setting your driver path"
   ],
   "metadata": {}
  },
  {
   "cell_type": "code",
   "execution_count": 2,
   "source": [
    "import platform\n",
    "if platform.system() == \"Windows\":\n",
    "    driverpath = os.getcwd() + \"/chromedriver.exe\"\n",
    "else:\n",
    "    driverpath = os.getcwd() + \"/chromedriver\"\n",
    "\n",
    "\n",
    "options = webdriver.ChromeOptions()\n",
    "#options.add_argument(\"headless\")\n",
    "options.add_experimental_option(\"excludeSwitches\", [\"enable-automation\"])"
   ],
   "outputs": [],
   "metadata": {}
  },
  {
   "cell_type": "code",
   "execution_count": 3,
   "source": [
    "driver = webdriver.Chrome(driverpath,  chrome_options=options)"
   ],
   "outputs": [
    {
     "output_type": "stream",
     "name": "stderr",
     "text": [
      "/var/folders/lk/b7zqk0ps4792145cxptl4zwc0000gn/T/ipykernel_26031/2209922887.py:1: DeprecationWarning: use options instead of chrome_options\n",
      "  driver = webdriver.Chrome(driverpath,  chrome_options=options)\n"
     ]
    }
   ],
   "metadata": {}
  },
  {
   "cell_type": "markdown",
   "source": [
    "## Move to URL"
   ],
   "metadata": {}
  },
  {
   "cell_type": "code",
   "execution_count": 4,
   "source": [
    "from selenium.webdriver.support.ui import WebDriverWait\n",
    "from selenium.webdriver.support import expected_conditions as EC"
   ],
   "outputs": [],
   "metadata": {}
  },
  {
   "cell_type": "code",
   "execution_count": null,
   "source": [
    "#Error Case\n",
    "url = \"https://portal.yonsei.ac.kr/main/\"\n",
    "driver.get(url)\n",
    "element = WebDriverWait(driver, 10).until(EC.presence_of_element_located((By.CLASS_NAME, \"RANDOMID\")))\n",
    "#time.sleep(3)\n",
    "html = driver.page_source\n",
    "soup = BeautifulSoup(html, \"html.parser\") "
   ],
   "outputs": [],
   "metadata": {}
  },
  {
   "cell_type": "code",
   "execution_count": 7,
   "source": [
    "url = \"https://portal.yonsei.ac.kr/main/\"\n",
    "driver.get(url)\n",
    "element = WebDriverWait(driver, 10).until(EC.presence_of_element_located((By.CLASS_NAME, \"icon_menu\")))\n",
    "#time.sleep(3)\n",
    "html = driver.page_source\n",
    "soup = BeautifulSoup(html, \"html.parser\") "
   ],
   "outputs": [],
   "metadata": {}
  },
  {
   "cell_type": "markdown",
   "source": [
    "## Interact with web objects (Make screen half sized)"
   ],
   "metadata": {}
  },
  {
   "cell_type": "code",
   "execution_count": 8,
   "source": [
    "from selenium.webdriver.common.action_chains import ActionChains"
   ],
   "outputs": [],
   "metadata": {}
  },
  {
   "cell_type": "code",
   "execution_count": 10,
   "source": [
    "driver.find_element_by_class_name(\"icon_menu\").click()"
   ],
   "outputs": [],
   "metadata": {}
  },
  {
   "cell_type": "code",
   "execution_count": 17,
   "source": [
    "element = driver.find_element_by_class_name(\"icon_menu\")"
   ],
   "outputs": [],
   "metadata": {}
  },
  {
   "cell_type": "code",
   "execution_count": 19,
   "source": [
    "element.click()"
   ],
   "outputs": [],
   "metadata": {}
  },
  {
   "cell_type": "markdown",
   "source": [
    "## Maximized window"
   ],
   "metadata": {}
  },
  {
   "cell_type": "code",
   "execution_count": 8,
   "source": [
    "driver.maximize_window()\n",
    "html = driver.page_source\n",
    "soup = BeautifulSoup(html, \"html.parser\") "
   ],
   "outputs": [],
   "metadata": {}
  },
  {
   "cell_type": "code",
   "execution_count": 24,
   "source": [
    "chunk = soup.find(\"ul\", {\"class\" : \"sub double\"})\n",
    "menus = [i.text for i in chunk.find_all(\"li\")]"
   ],
   "outputs": [],
   "metadata": {}
  },
  {
   "cell_type": "code",
   "execution_count": 25,
   "source": [
    "menus"
   ],
   "outputs": [
    {
     "output_type": "execute_result",
     "data": {
      "text/plain": [
       "['학사관리',\n",
       " '학술정보원 (도서관)',\n",
       " '고위자과정',\n",
       " '학생증 발급',\n",
       " '전자출석부',\n",
       " '상담센터',\n",
       " '온라인강의(LearnUS)',\n",
       " '리더십센터',\n",
       " '취업안내',\n",
       " '교수학습혁신센터',\n",
       " '각종 신청서양식 모음',\n",
       " '공익법률지원센터']"
      ]
     },
     "metadata": {},
     "execution_count": 25
    }
   ],
   "metadata": {}
  },
  {
   "cell_type": "markdown",
   "source": [
    "## Send keys (login, etc)"
   ],
   "metadata": {}
  },
  {
   "cell_type": "code",
   "execution_count": 37,
   "source": [
    "login_url = \"https://accounts.google.com/signin\"\n",
    "driver.get(login_url)"
   ],
   "outputs": [],
   "metadata": {}
  },
  {
   "cell_type": "code",
   "execution_count": null,
   "source": [
    "ID = \"youid@id.com\"\n",
    "PW = \"yourpw\"\n",
    "def login_get_main():\n",
    "    print (\"Signing in...\")\n",
    "    driver.get(\"https://accounts.google.com/signin\")\n",
    "    elem = driver.find_element_by_xpath('//*[@id=\"identifierId\"]')\n",
    "    elem.send_keys(ID)\n",
    "    driver.find_element_by_xpath('//*[@id=\"identifierNext\"]').click()\n",
    "    WebDriverWait(driver, 10).until(\n",
    "        EC.presence_of_element_located((By.XPATH, '//*[@id=\"password\"]/div[1]/div/div[1]/input'))\n",
    "    )\n",
    "    elem = driver.find_element_by_xpath('//*[@id=\"password\"]/div[1]/div/div[1]/input')\n",
    "    elem.send_keys(PW)\n",
    "    driver.find_element_by_xpath('//*[@id=\"passwordNext\"]').click()\n",
    "\n",
    "    time.sleep(5)\n",
    "    print (\"Sined in! getting to main...\")\n",
    "    driver.get(main)"
   ],
   "outputs": [],
   "metadata": {}
  },
  {
   "cell_type": "markdown",
   "source": [
    "## Example of Appstore Crawling"
   ],
   "metadata": {}
  },
  {
   "cell_type": "code",
   "execution_count": 13,
   "source": [
    "def scroll(how_long=100):\n",
    "    SCROLL_PAUSE_TIME = 2\n",
    "    # Get scroll height\n",
    "    starttime = time.time()\n",
    "    proceed = 0\n",
    "    last_height = driver.execute_script(\"return document.body.scrollHeight\")\n",
    "    while proceed<how_long:\n",
    "        # Scroll down to bottom\n",
    "        driver.execute_script(\"window.scrollTo(0, document.body.scrollHeight);\")\n",
    "        # Wait to load page\n",
    "        time.sleep(SCROLL_PAUSE_TIME)\n",
    "\n",
    "        # Calculate new scroll height and compare with last scroll height\n",
    "        new_height = driver.execute_script(\"return document.body.scrollHeight\")\n",
    "        if new_height == last_height:\n",
    "            break\n",
    "        last_height = new_height\n",
    "        endtime = time.time()\n",
    "        proceed = endtime-starttime"
   ],
   "outputs": [],
   "metadata": {}
  },
  {
   "cell_type": "code",
   "execution_count": 11,
   "source": [
    "#driver = webdriver.Chrome(driverpath,  chrome_options=options)\n",
    "def get_rating(url, seconds = 100):\n",
    "    driver.get(url)\n",
    "    driver.implicitly_wait(5)\n",
    "    scroll(seconds)\n",
    "\n",
    "    html = driver.page_source\n",
    "    soup = BeautifulSoup(html, \"html.parser\") \n",
    "    reviews = soup.find_all(\"div\", {\"class\" :  \"we-customer-review lockup\"})\n",
    "    collection = {}\n",
    "    for i in range(0, len(reviews)):\n",
    "        collection[i] = {}\n",
    "        l = reviews[i]\n",
    "        collection[i][\"title\"] = l.find(\"h3\", {\"class\" : \"we-truncate we-truncate--single-line we-customer-review__title\"}).text.strip()\n",
    "        collection[i][\"contents\"] = l.find(\"div\", {\"class\" : \"we-clamp\"}).text\n",
    "        collection[i][\"rating\"] = l.find(\"figure\", {\"class\" : \"we-star-rating we-customer-review__rating we-star-rating--large\"})[\"aria-label\"]\n",
    "        collection[i][\"time\"] = l.find(\"time\")[\"datetime\"]\n",
    "\n",
    "    return collection"
   ],
   "outputs": [],
   "metadata": {}
  },
  {
   "cell_type": "code",
   "execution_count": 9,
   "source": [
    "link = \"https://apps.apple.com/us/app/keynote/id409183694?mt=12#see-all/reviews\""
   ],
   "outputs": [],
   "metadata": {}
  },
  {
   "cell_type": "code",
   "execution_count": null,
   "source": [
    "get_rating(link, seconds = 5)"
   ],
   "outputs": [],
   "metadata": {}
  }
 ],
 "metadata": {
  "orig_nbformat": 4,
  "language_info": {
   "name": "python",
   "version": "3.9.6",
   "mimetype": "text/x-python",
   "codemirror_mode": {
    "name": "ipython",
    "version": 3
   },
   "pygments_lexer": "ipython3",
   "nbconvert_exporter": "python",
   "file_extension": ".py"
  },
  "kernelspec": {
   "name": "python3",
   "display_name": "Python 3.9.6 64-bit ('Data_collection_tutorial-TDuiTNv3': pipenv)"
  },
  "interpreter": {
   "hash": "be82a4b2795e6e944013e327d7671376dc99316275ddb3b784c72c881f4d440b"
  }
 },
 "nbformat": 4,
 "nbformat_minor": 2
}