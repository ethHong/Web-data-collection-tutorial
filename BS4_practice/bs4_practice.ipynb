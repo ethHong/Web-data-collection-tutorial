{
 "cells": [
  {
   "cell_type": "code",
   "execution_count": 2,
   "source": [
    "from bs4 import BeautifulSoup\n",
    "import re\n",
    "import json\n",
    "from IPython.display import Image"
   ],
   "outputs": [],
   "metadata": {}
  },
  {
   "cell_type": "markdown",
   "source": [
    "Always use BeautifulSoup to convert html-formatted strings, to 'html'"
   ],
   "metadata": {}
  },
  {
   "cell_type": "markdown",
   "source": [
    "# soup.find() to find certain tag"
   ],
   "metadata": {}
  },
  {
   "cell_type": "code",
   "execution_count": 22,
   "source": [
    "example_tag = \"<div class = 'large_div'><p class='myclass1' id='myid1'> Sample Sentence 1 </p><p class='myclass2' id='myid2'> Sample Sentence 2 </p></div>\"\n",
    "example_soup = BeautifulSoup(example_tag, \"html.parser\")\n",
    "print(example_soup)"
   ],
   "outputs": [
    {
     "output_type": "stream",
     "name": "stdout",
     "text": [
      "<div class=\"large_div\"><p class=\"myclass1\" id=\"myid1\"> Sample Sentence 1 </p><p class=\"myclass2\" id=\"myid2\"> Sample Sentence 2 </p></div>\n"
     ]
    }
   ],
   "metadata": {}
  },
  {
   "cell_type": "code",
   "execution_count": 4,
   "source": [
    "example_soup.find(\"p\")"
   ],
   "outputs": [
    {
     "output_type": "execute_result",
     "data": {
      "text/plain": [
       "<p class=\"myclass1\" id=\"myid1\"> Sample Sentence 1 </p>"
      ]
     },
     "metadata": {},
     "execution_count": 4
    }
   ],
   "metadata": {}
  },
  {
   "cell_type": "code",
   "execution_count": 5,
   "source": [
    "example_soup.find_all(\"p\")"
   ],
   "outputs": [
    {
     "output_type": "execute_result",
     "data": {
      "text/plain": [
       "[<p class=\"myclass1\" id=\"myid1\"> Sample Sentence 1 </p>,\n",
       " <p class=\"myclass2\" id=\"myid2\"> Sample Sentence 2 </p>]"
      ]
     },
     "metadata": {},
     "execution_count": 5
    }
   ],
   "metadata": {}
  },
  {
   "cell_type": "markdown",
   "source": [
    "* find_all()takes all tages, while find() only takes one (first one)\n",
    "* You can specify with attributes, like 'id', 'class', etc..."
   ],
   "metadata": {}
  },
  {
   "cell_type": "markdown",
   "source": [
    "Here, if you believe the web is built with 'highly strict rule', so orders and and structure of all the contents & tags are unified, you may use 'indexing' from find_all() to get info you want. \n",
    "\n",
    "For example, if first \"p\" tag always include title, and second \"p\" tag always include contents...\n",
    "\n",
    "However, in most of the cases there are lots of variances & exception, so it is better to find well-defined attributes for data you are looking for"
   ],
   "metadata": {}
  },
  {
   "cell_type": "code",
   "execution_count": 6,
   "source": [
    "example_soup.find(\"p\", {\"class\" : \"myclass1\"})"
   ],
   "outputs": [
    {
     "output_type": "execute_result",
     "data": {
      "text/plain": [
       "<p class=\"myclass1\" id=\"myid1\"> Sample Sentence 1 </p>"
      ]
     },
     "metadata": {},
     "execution_count": 6
    }
   ],
   "metadata": {}
  },
  {
   "cell_type": "code",
   "execution_count": 7,
   "source": [
    "example_soup.find(\"p\", {\"class\" : \"myclass2\"})"
   ],
   "outputs": [
    {
     "output_type": "execute_result",
     "data": {
      "text/plain": [
       "<p class=\"myclass2\" id=\"myid2\"> Sample Sentence 2 </p>"
      ]
     },
     "metadata": {},
     "execution_count": 7
    }
   ],
   "metadata": {}
  },
  {
   "cell_type": "markdown",
   "source": [
    "You can also find and defind external tag first, and narrow down to find information you are looking for"
   ],
   "metadata": {}
  },
  {
   "cell_type": "code",
   "execution_count": 8,
   "source": [
    "divtag = example_soup.find(\"div\", {\"class\" : \"large_div\"})\n",
    "print (divtag)"
   ],
   "outputs": [
    {
     "output_type": "stream",
     "name": "stdout",
     "text": [
      "<div class=\"large_div\"><p class=\"myclass1\" id=\"myid1\"> Sample Sentence 1 </p><p class=\"myclass2\" id=\"myid2\"> Sample Sentence 2 </p></div>\n"
     ]
    }
   ],
   "metadata": {}
  },
  {
   "cell_type": "code",
   "execution_count": 9,
   "source": [
    "data = divtag.find(\"p\", {\"id\" : \"myid2\"})\n",
    "data.text"
   ],
   "outputs": [
    {
     "output_type": "execute_result",
     "data": {
      "text/plain": [
       "' Sample Sentence 2 '"
      ]
     },
     "metadata": {},
     "execution_count": 9
    }
   ],
   "metadata": {}
  },
  {
   "cell_type": "markdown",
   "source": [
    "You can also find only with attributes, as 'class' or 'id', without specifying tag"
   ],
   "metadata": {}
  },
  {
   "cell_type": "code",
   "execution_count": 10,
   "source": [
    "print (divtag.find(class_ = \"myclass1\").text)\n",
    "print (divtag.find(attrs = {\"class\" : \"myclass2\"}).text)\n",
    "print (divtag.find('p', id = \"myid1\").text)\n",
    "#'class' is reserved for python"
   ],
   "outputs": [
    {
     "output_type": "stream",
     "name": "stdout",
     "text": [
      " Sample Sentence 1 \n",
      " Sample Sentence 2 \n",
      " Sample Sentence 1 \n"
     ]
    }
   ],
   "metadata": {}
  },
  {
   "cell_type": "markdown",
   "source": [
    "Also, you can extract 'attribute value' from tags"
   ],
   "metadata": {}
  },
  {
   "cell_type": "code",
   "execution_count": 11,
   "source": [
    "example_soup.find(\"p\", {\"class\" : \"myclass1\"})[\"id\"]"
   ],
   "outputs": [
    {
     "output_type": "execute_result",
     "data": {
      "text/plain": [
       "'myid1'"
      ]
     },
     "metadata": {},
     "execution_count": 11
    }
   ],
   "metadata": {}
  },
  {
   "cell_type": "markdown",
   "source": [
    "# soup.select() and CSS Selector"
   ],
   "metadata": {}
  },
  {
   "cell_type": "markdown",
   "source": [
    "You can also use select(), instead of find()\n",
    "\n",
    "* find() >> select_one()\n",
    "* find_all() >>select()"
   ],
   "metadata": {}
  },
  {
   "cell_type": "code",
   "execution_count": 12,
   "source": [
    "example_soup.select('p')"
   ],
   "outputs": [
    {
     "output_type": "execute_result",
     "data": {
      "text/plain": [
       "[<p class=\"myclass1\" id=\"myid1\"> Sample Sentence 1 </p>,\n",
       " <p class=\"myclass2\" id=\"myid2\"> Sample Sentence 2 </p>]"
      ]
     },
     "metadata": {},
     "execution_count": 12
    }
   ],
   "metadata": {}
  },
  {
   "cell_type": "code",
   "execution_count": 13,
   "source": [
    "example_soup.select_one('p')"
   ],
   "outputs": [
    {
     "output_type": "execute_result",
     "data": {
      "text/plain": [
       "<p class=\"myclass1\" id=\"myid1\"> Sample Sentence 1 </p>"
      ]
     },
     "metadata": {},
     "execution_count": 13
    }
   ],
   "metadata": {}
  },
  {
   "cell_type": "code",
   "execution_count": 14,
   "source": [
    "print (example_soup.find('div').find('p'))\n",
    "print (example_soup.select_one('div > p'))"
   ],
   "outputs": [
    {
     "output_type": "stream",
     "name": "stdout",
     "text": [
      "<p class=\"myclass1\" id=\"myid1\"> Sample Sentence 1 </p>\n",
      "<p class=\"myclass1\" id=\"myid1\"> Sample Sentence 1 </p>\n"
     ]
    }
   ],
   "metadata": {}
  },
  {
   "cell_type": "markdown",
   "source": [
    "You can specify class with '.', id with '#'"
   ],
   "metadata": {}
  },
  {
   "cell_type": "code",
   "execution_count": 15,
   "source": [
    "print (example_soup.select_one('.myclass1'))\n",
    "print (example_soup.select_one('p.myclass1'))\n",
    "print (example_soup.select_one('p#myid1'))\n",
    "print (example_soup.select_one('p#myid1.myclass1'))"
   ],
   "outputs": [
    {
     "output_type": "stream",
     "name": "stdout",
     "text": [
      "<p class=\"myclass1\" id=\"myid1\"> Sample Sentence 1 </p>\n",
      "<p class=\"myclass1\" id=\"myid1\"> Sample Sentence 1 </p>\n",
      "<p class=\"myclass1\" id=\"myid1\"> Sample Sentence 1 </p>\n",
      "<p class=\"myclass1\" id=\"myid1\"> Sample Sentence 1 </p>\n"
     ]
    }
   ],
   "metadata": {}
  },
  {
   "cell_type": "markdown",
   "source": [
    "# Example with Naver News"
   ],
   "metadata": {}
  },
  {
   "cell_type": "code",
   "execution_count": 16,
   "source": [
    "with open(\"news.html\", \"r\") as f:\n",
    "    soup = BeautifulSoup(f, 'html.parser')\n",
    "    #Here, f is loaded as string file"
   ],
   "outputs": [],
   "metadata": {}
  },
  {
   "cell_type": "markdown",
   "source": [
    "Let's try to get all the titles, and links of each articles. \n",
    "We can see that each of articles are included in  :\n",
    "```\n",
    "<div class = \"content\">\n",
    "    <div...>\n",
    "        <ul...>\n",
    "            <li>\n",
    "            <li>\n",
    "            ...\n",
    "        </ul>\n",
    "    </div>\n",
    "</div>\n",
    "\n",
    "```\n",
    "Multiple articles are included as lists"
   ],
   "metadata": {}
  },
  {
   "cell_type": "markdown",
   "source": [
    "![title](img/1.png)"
   ],
   "metadata": {}
  },
  {
   "cell_type": "markdown",
   "source": [
    "![title](img/2.png)"
   ],
   "metadata": {}
  },
  {
   "cell_type": "markdown",
   "source": [
    "In the 'li' tag, titles are located inside 'a' tag, which include both title text and 'hyperlink' as attribute"
   ],
   "metadata": {}
  },
  {
   "cell_type": "markdown",
   "source": [
    "![title](img/3.png)"
   ],
   "metadata": {}
  },
  {
   "cell_type": "code",
   "execution_count": 17,
   "source": [
    "contents_box = soup.find(\"div\", {\"class\" :  \"content\", \"id\" : \"main_content\"})\n",
    "article_lists =  contents_box.find_all(\"li\")"
   ],
   "outputs": [],
   "metadata": {}
  },
  {
   "cell_type": "markdown",
   "source": [
    "## Question: Here, why is it safe (or okay) to use find_all(\"li\"), without specifying attribute?"
   ],
   "metadata": {}
  },
  {
   "cell_type": "code",
   "execution_count": 18,
   "source": [
    "print (\"Number of articles: {}\".format(len(article_lists)))"
   ],
   "outputs": [
    {
     "output_type": "stream",
     "name": "stdout",
     "text": [
      "Number of articles: 20\n"
     ]
    }
   ],
   "metadata": {}
  },
  {
   "cell_type": "code",
   "execution_count": 19,
   "source": [
    "def get_info(info):\n",
    "    title = info.find_all(\"a\")[-1].text.strip() #Why do we index [-1] for \"a\", and why is this safe measure here?\n",
    "    link = info.find(\"a\")[\"href\"]\n",
    "    \n",
    "    return{title:link}"
   ],
   "outputs": [],
   "metadata": {}
  },
  {
   "cell_type": "markdown",
   "source": [
    "## Question: Here, Why do we index [-1] for \"a\", and why is this safe measure here?"
   ],
   "metadata": {}
  },
  {
   "cell_type": "code",
   "execution_count": 20,
   "source": [
    "collection = {}\n",
    "for i in range(0, len(article_lists)):\n",
    "    info = article_lists[i]\n",
    "    collection[i] = get_info(info) "
   ],
   "outputs": [],
   "metadata": {}
  },
  {
   "cell_type": "code",
   "execution_count": 21,
   "source": [
    "collection"
   ],
   "outputs": [
    {
     "output_type": "execute_result",
     "data": {
      "text/plain": [
       "{0: {'SPAIN FOREST FIRE': 'https://news.naver.com/main/read.naver?mode=LSD&mid=sec&sid1=001&oid=091&aid=0008873298'},\n",
       " 1: {'SPAIN FOREST FIRE': 'https://news.naver.com/main/read.naver?mode=LSD&mid=sec&sid1=001&oid=091&aid=0008873297'},\n",
       " 2: {'[마감]지수선물 보합..431.50(0.00p)': 'https://news.naver.com/main/read.naver?mode=LSD&mid=sec&sid1=001&oid=018&aid=0004993139'},\n",
       " 3: {'[마감]국채선물 상승..110.30 +4틱': 'https://news.naver.com/main/read.naver?mode=LSD&mid=sec&sid1=001&oid=018&aid=0004993138'},\n",
       " 4: {'경제계가 이재용의 ‘가석방’ 아닌 ‘사면’ 원하는 이유': 'https://news.naver.com/main/read.naver?mode=LSD&mid=sec&sid1=001&oid=119&aid=0002513957'},\n",
       " 5: {'동양생명, 우리금융지주 지분 전량 매각…왜?': 'https://news.naver.com/main/read.naver?mode=LSD&mid=sec&sid1=001&oid=032&aid=0003087433'},\n",
       " 6: {'美 셔먼 \"한반도 비핵화는 중국과 협조할 영역\"': 'https://news.naver.com/main/read.naver?mode=LSD&mid=sec&sid1=001&oid=002&aid=0002201455'},\n",
       " 7: {\"전주지법, 8월 6일까지 2주간 '하계 법정 휴정'\": 'https://news.naver.com/main/read.naver?mode=LSD&mid=sec&sid1=001&oid=421&aid=0005497685'},\n",
       " 8: {'현대위아, 2분기 영업이익 450억원 흑자전환…\"車 부품 판매증가\"': 'https://news.naver.com/main/read.naver?mode=LSD&mid=sec&sid1=001&oid=421&aid=0005497683'},\n",
       " 9: {'코스닥 연고점 다시 뚫어': 'https://news.naver.com/main/read.naver?mode=LSD&mid=sec&sid1=001&oid=421&aid=0005497684'},\n",
       " 10: {'\"집단감염 발생해도 이상하지 않아\"…도쿄올림픽 선수촌, 불안 투성이': 'https://news.naver.com/main/read.naver?mode=LSD&mid=sec&sid1=001&oid=003&aid=0010624881'},\n",
       " 11: {'김두관 \"이재명·이낙연, 盧 탄핵 논쟁 그만…내가 \\'리틀 노무현\\'\"': 'https://news.naver.com/main/read.naver?mode=LSD&mid=sec&sid1=001&oid=008&aid=0004621048'},\n",
       " 12: {\"'오와 열' 맞춰 일광욕 즐기는 '오리가족들' [TF사진관]\": 'https://news.naver.com/main/read.naver?mode=LSD&mid=sec&sid1=001&oid=629&aid=0000096817'},\n",
       " 13: {'진도군, 신혼부부 결혼장려금 300만원 인상 지원': 'https://news.naver.com/main/read.naver?mode=LSD&mid=sec&sid1=001&oid=468&aid=0000780197'},\n",
       " 14: {'전주시, 만성지구에 공영주차장 추가 조성…주자난 해소 기대': 'https://news.naver.com/main/read.naver?mode=LSD&mid=sec&sid1=001&oid=421&aid=0005497682'},\n",
       " 15: {'엘리엇, 상승액션 어드벤처 VR게임 ‘윈드윈드’ 정식 출시': 'https://news.naver.com/main/read.naver?mode=LSD&mid=sec&sid1=001&oid=421&aid=0005497681'},\n",
       " 16: {'윤석열 부인 김건희 수사 속도내는 檢… 증권사 6곳 압색·전문 수사인력 보강': 'https://news.naver.com/main/read.naver?mode=LSD&mid=sec&sid1=001&oid=277&aid=0004942450'},\n",
       " 17: {'[fnRASSI]장마감, 코스닥 하락 종목(에이루트 -23.1% ↓)': 'https://news.naver.com/main/read.naver?mode=LSD&mid=sec&sid1=001&oid=014&aid=0004680298'},\n",
       " 18: {'부산 찾은 안철수 “균형발전, 대선 이슈로 부각시켜야”': 'https://news.naver.com/main/read.naver?mode=LSD&mid=sec&sid1=001&oid=082&aid=0001108979'},\n",
       " 19: {'법원 “인보사 국가연구비 환수 처분 취소하라”': 'https://news.naver.com/main/read.naver?mode=LSD&mid=sec&sid1=001&oid=023&aid=0003628974'}}"
      ]
     },
     "metadata": {},
     "execution_count": 21
    }
   ],
   "metadata": {}
  }
 ],
 "metadata": {
  "orig_nbformat": 4,
  "language_info": {
   "name": "python",
   "version": "3.9.5",
   "mimetype": "text/x-python",
   "codemirror_mode": {
    "name": "ipython",
    "version": 3
   },
   "pygments_lexer": "ipython3",
   "nbconvert_exporter": "python",
   "file_extension": ".py"
  },
  "kernelspec": {
   "name": "python3",
   "display_name": "Python 3.9.5 64-bit ('Data_collection_tutorial-TDuiTNv3': pipenv)"
  },
  "interpreter": {
   "hash": "be82a4b2795e6e944013e327d7671376dc99316275ddb3b784c72c881f4d440b"
  }
 },
 "nbformat": 4,
 "nbformat_minor": 2
}